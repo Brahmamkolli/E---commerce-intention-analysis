{
 "cells": [
  {
   "cell_type": "code",
   "execution_count": 1,
   "id": "7afdfaf2-5177-4009-b8b4-d14d4f94a57e",
   "metadata": {},
   "outputs": [],
   "source": [
    "import numpy as np\n",
    "import pandas as pd"
   ]
  },
  {
   "cell_type": "code",
   "execution_count": 2,
   "id": "e3fad1b7-7337-46bd-bd42-7d0d7fc7ac5f",
   "metadata": {},
   "outputs": [],
   "source": [
    "import tensorflow as tf\n",
    "import keras"
   ]
  },
  {
   "cell_type": "code",
   "execution_count": 3,
   "id": "d02edcf3-659e-4023-aff6-25f1a01743c1",
   "metadata": {},
   "outputs": [],
   "source": [
    "df = pd.read_excel(\"Ecommerce cleaned.xlsx\")"
   ]
  },
  {
   "cell_type": "code",
   "execution_count": 4,
   "id": "b6a5e762-0cf7-40c9-8bc7-9ba2bd2e3f78",
   "metadata": {},
   "outputs": [],
   "source": [
    "X = df.drop('Revenue', axis = 1)\n",
    "y = df['Revenue']"
   ]
  },
  {
   "cell_type": "code",
   "execution_count": 5,
   "id": "67972118-9cd9-4872-aea8-6b9fc48074d1",
   "metadata": {},
   "outputs": [],
   "source": [
    "from sklearn.model_selection import train_test_split\n",
    "X_train, X_test, y_train, y_test = train_test_split(X, y, test_size = 0.2, random_state = 42)"
   ]
  },
  {
   "cell_type": "code",
   "execution_count": 6,
   "id": "779d6b86-5d08-4e64-a65b-9e3d789f43c1",
   "metadata": {},
   "outputs": [
    {
     "name": "stdout",
     "output_type": "stream",
     "text": [
      "Revenue\n",
      "False    8946\n",
      "True     1425\n",
      "Name: count, dtype: int64\n",
      "Revenue\n",
      "False    86.259763\n",
      "True     13.740237\n",
      "Name: proportion, dtype: float64\n"
     ]
    }
   ],
   "source": [
    "# Count of each class\n",
    "print(df['Revenue'].value_counts())\n",
    "\n",
    "# Percentage distribution\n",
    "print(df['Revenue'].value_counts(normalize=True) * 100)"
   ]
  },
  {
   "cell_type": "code",
   "execution_count": 8,
   "id": "db426970-35b8-41db-a91a-b8de92b7b1fb",
   "metadata": {},
   "outputs": [
    {
     "name": "stdout",
     "output_type": "stream",
     "text": [
      "Before SMOTE: Revenue\n",
      "False    7137\n",
      "True     1159\n",
      "Name: count, dtype: int64\n",
      "After SMOTE: Revenue\n",
      "False    7137\n",
      "True     7137\n",
      "Name: count, dtype: int64\n"
     ]
    }
   ],
   "source": [
    "from imblearn.over_sampling import SMOTE\n",
    "\n",
    "smote = SMOTE(random_state=42)\n",
    "X_train_res, y_train_res = smote.fit_resample(X_train, y_train)\n",
    "\n",
    "print(\"Before SMOTE:\", y_train.value_counts())\n",
    "print(\"After SMOTE:\", y_train_res.value_counts())"
   ]
  },
  {
   "cell_type": "code",
   "execution_count": 9,
   "id": "5356cdf0-ddca-4cbe-8f4e-4424cfccf19d",
   "metadata": {},
   "outputs": [],
   "source": [
    "from sklearn.preprocessing import StandardScaler\n",
    "sc = StandardScaler()\n",
    "X_train_scal = sc.fit_transform(X_train_res)\n",
    "X_test_scal = sc.transform(X_test)"
   ]
  },
  {
   "cell_type": "markdown",
   "id": "b476d24d-e21f-4889-a3b8-867592a3ed95",
   "metadata": {},
   "source": [
    "# Modelling"
   ]
  },
  {
   "cell_type": "markdown",
   "id": "165577f4-3a73-45a9-9e72-e0ec45c2a9bf",
   "metadata": {},
   "source": [
    "**Predictions & label shape**"
   ]
  },
  {
   "cell_type": "code",
   "execution_count": 16,
   "id": "5de3b359-5dce-4e22-a5da-f355ac115782",
   "metadata": {},
   "outputs": [
    {
     "name": "stdout",
     "output_type": "stream",
     "text": [
      "Epoch 1/50\n"
     ]
    },
    {
     "name": "stderr",
     "output_type": "stream",
     "text": [
      "C:\\Users\\kolli\\AppData\\Roaming\\Python\\Python313\\site-packages\\keras\\src\\layers\\core\\dense.py:92: UserWarning: Do not pass an `input_shape`/`input_dim` argument to a layer. When using Sequential models, prefer using an `Input(shape)` object as the first layer in the model instead.\n",
      "  super().__init__(activity_regularizer=activity_regularizer, **kwargs)\n"
     ]
    },
    {
     "name": "stdout",
     "output_type": "stream",
     "text": [
      "\u001b[1m447/447\u001b[0m \u001b[32m━━━━━━━━━━━━━━━━━━━━\u001b[0m\u001b[37m\u001b[0m \u001b[1m5s\u001b[0m 6ms/step - accuracy: 0.8857 - loss: 0.2723 - val_accuracy: 0.8983 - val_loss: 0.2497\n",
      "Epoch 2/50\n",
      "\u001b[1m447/447\u001b[0m \u001b[32m━━━━━━━━━━━━━━━━━━━━\u001b[0m\u001b[37m\u001b[0m \u001b[1m2s\u001b[0m 4ms/step - accuracy: 0.9278 - loss: 0.1799 - val_accuracy: 0.9142 - val_loss: 0.2277\n",
      "Epoch 3/50\n",
      "\u001b[1m447/447\u001b[0m \u001b[32m━━━━━━━━━━━━━━━━━━━━\u001b[0m\u001b[37m\u001b[0m \u001b[1m2s\u001b[0m 4ms/step - accuracy: 0.9350 - loss: 0.1616 - val_accuracy: 0.9108 - val_loss: 0.2235\n",
      "Epoch 4/50\n",
      "\u001b[1m447/447\u001b[0m \u001b[32m━━━━━━━━━━━━━━━━━━━━\u001b[0m\u001b[37m\u001b[0m \u001b[1m2s\u001b[0m 4ms/step - accuracy: 0.9391 - loss: 0.1519 - val_accuracy: 0.9094 - val_loss: 0.2211\n",
      "Epoch 5/50\n",
      "\u001b[1m447/447\u001b[0m \u001b[32m━━━━━━━━━━━━━━━━━━━━\u001b[0m\u001b[37m\u001b[0m \u001b[1m2s\u001b[0m 4ms/step - accuracy: 0.9415 - loss: 0.1436 - val_accuracy: 0.9070 - val_loss: 0.2278\n",
      "Epoch 6/50\n",
      "\u001b[1m447/447\u001b[0m \u001b[32m━━━━━━━━━━━━━━━━━━━━\u001b[0m\u001b[37m\u001b[0m \u001b[1m2s\u001b[0m 4ms/step - accuracy: 0.9436 - loss: 0.1367 - val_accuracy: 0.9108 - val_loss: 0.2227\n",
      "Epoch 7/50\n",
      "\u001b[1m447/447\u001b[0m \u001b[32m━━━━━━━━━━━━━━━━━━━━\u001b[0m\u001b[37m\u001b[0m \u001b[1m2s\u001b[0m 5ms/step - accuracy: 0.9465 - loss: 0.1292 - val_accuracy: 0.9142 - val_loss: 0.2192\n",
      "Epoch 8/50\n",
      "\u001b[1m447/447\u001b[0m \u001b[32m━━━━━━━━━━━━━━━━━━━━\u001b[0m\u001b[37m\u001b[0m \u001b[1m2s\u001b[0m 4ms/step - accuracy: 0.9489 - loss: 0.1248 - val_accuracy: 0.8983 - val_loss: 0.2447\n",
      "Epoch 9/50\n",
      "\u001b[1m447/447\u001b[0m \u001b[32m━━━━━━━━━━━━━━━━━━━━\u001b[0m\u001b[37m\u001b[0m \u001b[1m2s\u001b[0m 3ms/step - accuracy: 0.9473 - loss: 0.1263 - val_accuracy: 0.9166 - val_loss: 0.2165\n",
      "Epoch 10/50\n",
      "\u001b[1m447/447\u001b[0m \u001b[32m━━━━━━━━━━━━━━━━━━━━\u001b[0m\u001b[37m\u001b[0m \u001b[1m2s\u001b[0m 4ms/step - accuracy: 0.9498 - loss: 0.1198 - val_accuracy: 0.9137 - val_loss: 0.2231\n",
      "Epoch 11/50\n",
      "\u001b[1m447/447\u001b[0m \u001b[32m━━━━━━━━━━━━━━━━━━━━\u001b[0m\u001b[37m\u001b[0m \u001b[1m1s\u001b[0m 3ms/step - accuracy: 0.9511 - loss: 0.1149 - val_accuracy: 0.9075 - val_loss: 0.2337\n",
      "Epoch 12/50\n",
      "\u001b[1m447/447\u001b[0m \u001b[32m━━━━━━━━━━━━━━━━━━━━\u001b[0m\u001b[37m\u001b[0m \u001b[1m3s\u001b[0m 5ms/step - accuracy: 0.9526 - loss: 0.1145 - val_accuracy: 0.9157 - val_loss: 0.2201\n",
      "Epoch 13/50\n",
      "\u001b[1m447/447\u001b[0m \u001b[32m━━━━━━━━━━━━━━━━━━━━\u001b[0m\u001b[37m\u001b[0m \u001b[1m2s\u001b[0m 4ms/step - accuracy: 0.9559 - loss: 0.1098 - val_accuracy: 0.9200 - val_loss: 0.2161\n",
      "Epoch 14/50\n",
      "\u001b[1m447/447\u001b[0m \u001b[32m━━━━━━━━━━━━━━━━━━━━\u001b[0m\u001b[37m\u001b[0m \u001b[1m2s\u001b[0m 5ms/step - accuracy: 0.9545 - loss: 0.1095 - val_accuracy: 0.9181 - val_loss: 0.2232\n",
      "Epoch 15/50\n",
      "\u001b[1m447/447\u001b[0m \u001b[32m━━━━━━━━━━━━━━━━━━━━\u001b[0m\u001b[37m\u001b[0m \u001b[1m2s\u001b[0m 4ms/step - accuracy: 0.9554 - loss: 0.1069 - val_accuracy: 0.9108 - val_loss: 0.2300\n",
      "Epoch 16/50\n",
      "\u001b[1m447/447\u001b[0m \u001b[32m━━━━━━━━━━━━━━━━━━━━\u001b[0m\u001b[37m\u001b[0m \u001b[1m3s\u001b[0m 5ms/step - accuracy: 0.9571 - loss: 0.1023 - val_accuracy: 0.9108 - val_loss: 0.2425\n",
      "Epoch 17/50\n",
      "\u001b[1m447/447\u001b[0m \u001b[32m━━━━━━━━━━━━━━━━━━━━\u001b[0m\u001b[37m\u001b[0m \u001b[1m2s\u001b[0m 4ms/step - accuracy: 0.9578 - loss: 0.1028 - val_accuracy: 0.9089 - val_loss: 0.2474\n",
      "Epoch 18/50\n",
      "\u001b[1m447/447\u001b[0m \u001b[32m━━━━━━━━━━━━━━━━━━━━\u001b[0m\u001b[37m\u001b[0m \u001b[1m3s\u001b[0m 5ms/step - accuracy: 0.9594 - loss: 0.1032 - val_accuracy: 0.9099 - val_loss: 0.2412\n",
      "Epoch 19/50\n",
      "\u001b[1m447/447\u001b[0m \u001b[32m━━━━━━━━━━━━━━━━━━━━\u001b[0m\u001b[37m\u001b[0m \u001b[1m2s\u001b[0m 5ms/step - accuracy: 0.9590 - loss: 0.0975 - val_accuracy: 0.9055 - val_loss: 0.2524\n",
      "Epoch 20/50\n",
      "\u001b[1m447/447\u001b[0m \u001b[32m━━━━━━━━━━━━━━━━━━━━\u001b[0m\u001b[37m\u001b[0m \u001b[1m2s\u001b[0m 4ms/step - accuracy: 0.9603 - loss: 0.0996 - val_accuracy: 0.9075 - val_loss: 0.2473\n",
      "Epoch 21/50\n",
      "\u001b[1m447/447\u001b[0m \u001b[32m━━━━━━━━━━━━━━━━━━━━\u001b[0m\u001b[37m\u001b[0m \u001b[1m2s\u001b[0m 4ms/step - accuracy: 0.9592 - loss: 0.0967 - val_accuracy: 0.9060 - val_loss: 0.2579\n",
      "Epoch 22/50\n",
      "\u001b[1m447/447\u001b[0m \u001b[32m━━━━━━━━━━━━━━━━━━━━\u001b[0m\u001b[37m\u001b[0m \u001b[1m3s\u001b[0m 4ms/step - accuracy: 0.9603 - loss: 0.0937 - val_accuracy: 0.9089 - val_loss: 0.2454\n",
      "Epoch 23/50\n",
      "\u001b[1m447/447\u001b[0m \u001b[32m━━━━━━━━━━━━━━━━━━━━\u001b[0m\u001b[37m\u001b[0m \u001b[1m2s\u001b[0m 5ms/step - accuracy: 0.9617 - loss: 0.0922 - val_accuracy: 0.9113 - val_loss: 0.2432\n",
      "Epoch 24/50\n",
      "\u001b[1m447/447\u001b[0m \u001b[32m━━━━━━━━━━━━━━━━━━━━\u001b[0m\u001b[37m\u001b[0m \u001b[1m2s\u001b[0m 5ms/step - accuracy: 0.9615 - loss: 0.0916 - val_accuracy: 0.9075 - val_loss: 0.2491\n",
      "Epoch 25/50\n",
      "\u001b[1m447/447\u001b[0m \u001b[32m━━━━━━━━━━━━━━━━━━━━\u001b[0m\u001b[37m\u001b[0m \u001b[1m2s\u001b[0m 4ms/step - accuracy: 0.9640 - loss: 0.0894 - val_accuracy: 0.9027 - val_loss: 0.2705\n",
      "Epoch 26/50\n",
      "\u001b[1m447/447\u001b[0m \u001b[32m━━━━━━━━━━━━━━━━━━━━\u001b[0m\u001b[37m\u001b[0m \u001b[1m2s\u001b[0m 4ms/step - accuracy: 0.9638 - loss: 0.0884 - val_accuracy: 0.9104 - val_loss: 0.2508\n",
      "Epoch 27/50\n",
      "\u001b[1m447/447\u001b[0m \u001b[32m━━━━━━━━━━━━━━━━━━━━\u001b[0m\u001b[37m\u001b[0m \u001b[1m3s\u001b[0m 4ms/step - accuracy: 0.9636 - loss: 0.0859 - val_accuracy: 0.9041 - val_loss: 0.2587\n",
      "Epoch 28/50\n",
      "\u001b[1m447/447\u001b[0m \u001b[32m━━━━━━━━━━━━━━━━━━━━\u001b[0m\u001b[37m\u001b[0m \u001b[1m3s\u001b[0m 4ms/step - accuracy: 0.9636 - loss: 0.0866 - val_accuracy: 0.9055 - val_loss: 0.2720\n",
      "Epoch 29/50\n",
      "\u001b[1m447/447\u001b[0m \u001b[32m━━━━━━━━━━━━━━━━━━━━\u001b[0m\u001b[37m\u001b[0m \u001b[1m2s\u001b[0m 4ms/step - accuracy: 0.9655 - loss: 0.0875 - val_accuracy: 0.9176 - val_loss: 0.2527\n",
      "Epoch 30/50\n",
      "\u001b[1m447/447\u001b[0m \u001b[32m━━━━━━━━━━━━━━━━━━━━\u001b[0m\u001b[37m\u001b[0m \u001b[1m3s\u001b[0m 5ms/step - accuracy: 0.9646 - loss: 0.0855 - val_accuracy: 0.9051 - val_loss: 0.2583\n",
      "Epoch 31/50\n",
      "\u001b[1m447/447\u001b[0m \u001b[32m━━━━━━━━━━━━━━━━━━━━\u001b[0m\u001b[37m\u001b[0m \u001b[1m2s\u001b[0m 4ms/step - accuracy: 0.9655 - loss: 0.0853 - val_accuracy: 0.9084 - val_loss: 0.2732\n",
      "Epoch 32/50\n",
      "\u001b[1m447/447\u001b[0m \u001b[32m━━━━━━━━━━━━━━━━━━━━\u001b[0m\u001b[37m\u001b[0m \u001b[1m2s\u001b[0m 4ms/step - accuracy: 0.9652 - loss: 0.0825 - val_accuracy: 0.9118 - val_loss: 0.2616\n",
      "Epoch 33/50\n",
      "\u001b[1m447/447\u001b[0m \u001b[32m━━━━━━━━━━━━━━━━━━━━\u001b[0m\u001b[37m\u001b[0m \u001b[1m2s\u001b[0m 5ms/step - accuracy: 0.9660 - loss: 0.0813 - val_accuracy: 0.9051 - val_loss: 0.2787\n",
      "Epoch 34/50\n",
      "\u001b[1m447/447\u001b[0m \u001b[32m━━━━━━━━━━━━━━━━━━━━\u001b[0m\u001b[37m\u001b[0m \u001b[1m2s\u001b[0m 5ms/step - accuracy: 0.9685 - loss: 0.0771 - val_accuracy: 0.9036 - val_loss: 0.2820\n",
      "Epoch 35/50\n",
      "\u001b[1m447/447\u001b[0m \u001b[32m━━━━━━━━━━━━━━━━━━━━\u001b[0m\u001b[37m\u001b[0m \u001b[1m2s\u001b[0m 4ms/step - accuracy: 0.9692 - loss: 0.0767 - val_accuracy: 0.9031 - val_loss: 0.3039\n",
      "Epoch 36/50\n",
      "\u001b[1m447/447\u001b[0m \u001b[32m━━━━━━━━━━━━━━━━━━━━\u001b[0m\u001b[37m\u001b[0m \u001b[1m3s\u001b[0m 5ms/step - accuracy: 0.9673 - loss: 0.0776 - val_accuracy: 0.9152 - val_loss: 0.2853\n",
      "Epoch 37/50\n",
      "\u001b[1m447/447\u001b[0m \u001b[32m━━━━━━━━━━━━━━━━━━━━\u001b[0m\u001b[37m\u001b[0m \u001b[1m2s\u001b[0m 5ms/step - accuracy: 0.9678 - loss: 0.0774 - val_accuracy: 0.9080 - val_loss: 0.2736\n",
      "Epoch 38/50\n",
      "\u001b[1m447/447\u001b[0m \u001b[32m━━━━━━━━━━━━━━━━━━━━\u001b[0m\u001b[37m\u001b[0m \u001b[1m3s\u001b[0m 5ms/step - accuracy: 0.9690 - loss: 0.0733 - val_accuracy: 0.9065 - val_loss: 0.2964\n",
      "Epoch 39/50\n",
      "\u001b[1m447/447\u001b[0m \u001b[32m━━━━━━━━━━━━━━━━━━━━\u001b[0m\u001b[37m\u001b[0m \u001b[1m3s\u001b[0m 5ms/step - accuracy: 0.9691 - loss: 0.0754 - val_accuracy: 0.9099 - val_loss: 0.2969\n",
      "Epoch 40/50\n",
      "\u001b[1m447/447\u001b[0m \u001b[32m━━━━━━━━━━━━━━━━━━━━\u001b[0m\u001b[37m\u001b[0m \u001b[1m3s\u001b[0m 5ms/step - accuracy: 0.9680 - loss: 0.0740 - val_accuracy: 0.9027 - val_loss: 0.2965\n",
      "Epoch 41/50\n",
      "\u001b[1m447/447\u001b[0m \u001b[32m━━━━━━━━━━━━━━━━━━━━\u001b[0m\u001b[37m\u001b[0m \u001b[1m2s\u001b[0m 5ms/step - accuracy: 0.9703 - loss: 0.0705 - val_accuracy: 0.9027 - val_loss: 0.3039\n",
      "Epoch 42/50\n",
      "\u001b[1m447/447\u001b[0m \u001b[32m━━━━━━━━━━━━━━━━━━━━\u001b[0m\u001b[37m\u001b[0m \u001b[1m2s\u001b[0m 5ms/step - accuracy: 0.9704 - loss: 0.0738 - val_accuracy: 0.9051 - val_loss: 0.3017\n",
      "Epoch 43/50\n",
      "\u001b[1m447/447\u001b[0m \u001b[32m━━━━━━━━━━━━━━━━━━━━\u001b[0m\u001b[37m\u001b[0m \u001b[1m3s\u001b[0m 5ms/step - accuracy: 0.9701 - loss: 0.0730 - val_accuracy: 0.9065 - val_loss: 0.2888\n",
      "Epoch 44/50\n",
      "\u001b[1m447/447\u001b[0m \u001b[32m━━━━━━━━━━━━━━━━━━━━\u001b[0m\u001b[37m\u001b[0m \u001b[1m2s\u001b[0m 5ms/step - accuracy: 0.9706 - loss: 0.0712 - val_accuracy: 0.9002 - val_loss: 0.2952\n",
      "Epoch 45/50\n",
      "\u001b[1m447/447\u001b[0m \u001b[32m━━━━━━━━━━━━━━━━━━━━\u001b[0m\u001b[37m\u001b[0m \u001b[1m3s\u001b[0m 5ms/step - accuracy: 0.9739 - loss: 0.0688 - val_accuracy: 0.9031 - val_loss: 0.2967\n",
      "Epoch 46/50\n",
      "\u001b[1m447/447\u001b[0m \u001b[32m━━━━━━━━━━━━━━━━━━━━\u001b[0m\u001b[37m\u001b[0m \u001b[1m3s\u001b[0m 5ms/step - accuracy: 0.9718 - loss: 0.0699 - val_accuracy: 0.8993 - val_loss: 0.3073\n",
      "Epoch 47/50\n",
      "\u001b[1m447/447\u001b[0m \u001b[32m━━━━━━━━━━━━━━━━━━━━\u001b[0m\u001b[37m\u001b[0m \u001b[1m2s\u001b[0m 5ms/step - accuracy: 0.9699 - loss: 0.0723 - val_accuracy: 0.9065 - val_loss: 0.3071\n",
      "Epoch 48/50\n",
      "\u001b[1m447/447\u001b[0m \u001b[32m━━━━━━━━━━━━━━━━━━━━\u001b[0m\u001b[37m\u001b[0m \u001b[1m3s\u001b[0m 5ms/step - accuracy: 0.9732 - loss: 0.0647 - val_accuracy: 0.9041 - val_loss: 0.3149\n",
      "Epoch 49/50\n",
      "\u001b[1m447/447\u001b[0m \u001b[32m━━━━━━━━━━━━━━━━━━━━\u001b[0m\u001b[37m\u001b[0m \u001b[1m2s\u001b[0m 5ms/step - accuracy: 0.9716 - loss: 0.0662 - val_accuracy: 0.9080 - val_loss: 0.3114\n",
      "Epoch 50/50\n",
      "\u001b[1m447/447\u001b[0m \u001b[32m━━━━━━━━━━━━━━━━━━━━\u001b[0m\u001b[37m\u001b[0m \u001b[1m2s\u001b[0m 5ms/step - accuracy: 0.9723 - loss: 0.0673 - val_accuracy: 0.9065 - val_loss: 0.3241\n",
      "\u001b[1m447/447\u001b[0m \u001b[32m━━━━━━━━━━━━━━━━━━━━\u001b[0m\u001b[37m\u001b[0m \u001b[1m1s\u001b[0m 2ms/step   \n",
      "\u001b[1m65/65\u001b[0m \u001b[32m━━━━━━━━━━━━━━━━━━━━\u001b[0m\u001b[37m\u001b[0m \u001b[1m0s\u001b[0m 1ms/step \n",
      "Train F1-score: 0.986408469956754\n",
      "Test F1-score: 0.9065060240963856\n",
      "\n",
      "Classification Report (Test Data):\n",
      "               precision    recall  f1-score   support\n",
      "\n",
      "       False       0.95      0.95      0.95      1809\n",
      "        True       0.64      0.64      0.64       266\n",
      "\n",
      "    accuracy                           0.91      2075\n",
      "   macro avg       0.79      0.79      0.79      2075\n",
      "weighted avg       0.91      0.91      0.91      2075\n",
      "\n"
     ]
    }
   ],
   "source": [
    "import tensorflow as tf\n",
    "from tensorflow.keras.models import Sequential\n",
    "from tensorflow.keras.layers import Dense, Dropout\n",
    "from sklearn.metrics import f1_score, classification_report\n",
    "\n",
    "# Build ANN Model\n",
    "ann = Sequential([\n",
    "    Dense(128, activation='relu', input_shape=(X_train_scal.shape[1],)),  # Input layer\n",
    "    Dropout(0.3),  \n",
    "    Dense(64, activation='relu'),  \n",
    "    Dropout(0.2),\n",
    "    Dense(1, activation='sigmoid')  # Output layer (binary classification)\n",
    "])\n",
    "\n",
    "# Compile model\n",
    "ann.compile(optimizer='adam', loss='binary_crossentropy', metrics=['accuracy'])\n",
    "\n",
    "# Train the model\n",
    "history = ann.fit(\n",
    "    X_train_scal, y_train_res,\n",
    "    validation_data=(X_test_scal, y_test),\n",
    "    epochs=50,\n",
    "    batch_size=32,\n",
    "    verbose=1\n",
    ")\n",
    "\n",
    "# Predictions\n",
    "y_pred_train = (ann.predict(X_train_scal) > 0.5).astype(\"int32\").ravel()\n",
    "y_pred_test = (ann.predict(X_test_scal) > 0.5).astype(\"int32\").ravel()\n",
    "\n",
    "# Evaluation\n",
    "print(\"Train F1-score:\", f1_score(y_train_res, y_pred_train, average='weighted'))\n",
    "print(\"Test F1-score:\", f1_score(y_test, y_pred_test, average='weighted'))\n",
    "\n",
    "print(\"\\nClassification Report (Test Data):\\n\", classification_report(y_test, y_pred_test))\n"
   ]
  },
  {
   "cell_type": "code",
   "execution_count": 17,
   "id": "f9043446-7abf-4a65-9f2f-a1336a237b41",
   "metadata": {},
   "outputs": [
    {
     "name": "stderr",
     "output_type": "stream",
     "text": [
      "C:\\Users\\kolli\\AppData\\Roaming\\Python\\Python313\\site-packages\\keras\\src\\layers\\core\\dense.py:92: UserWarning: Do not pass an `input_shape`/`input_dim` argument to a layer. When using Sequential models, prefer using an `Input(shape)` object as the first layer in the model instead.\n",
      "  super().__init__(activity_regularizer=activity_regularizer, **kwargs)\n",
      "C:\\Users\\kolli\\AppData\\Roaming\\Python\\Python313\\site-packages\\keras\\src\\layers\\core\\dense.py:92: UserWarning: Do not pass an `input_shape`/`input_dim` argument to a layer. When using Sequential models, prefer using an `Input(shape)` object as the first layer in the model instead.\n",
      "  super().__init__(activity_regularizer=activity_regularizer, **kwargs)\n",
      "C:\\Users\\kolli\\AppData\\Roaming\\Python\\Python313\\site-packages\\keras\\src\\layers\\core\\dense.py:92: UserWarning: Do not pass an `input_shape`/`input_dim` argument to a layer. When using Sequential models, prefer using an `Input(shape)` object as the first layer in the model instead.\n",
      "  super().__init__(activity_regularizer=activity_regularizer, **kwargs)\n",
      "C:\\Users\\kolli\\AppData\\Roaming\\Python\\Python313\\site-packages\\keras\\src\\layers\\core\\dense.py:92: UserWarning: Do not pass an `input_shape`/`input_dim` argument to a layer. When using Sequential models, prefer using an `Input(shape)` object as the first layer in the model instead.\n",
      "  super().__init__(activity_regularizer=activity_regularizer, **kwargs)\n",
      "C:\\Users\\kolli\\AppData\\Roaming\\Python\\Python313\\site-packages\\keras\\src\\layers\\core\\dense.py:92: UserWarning: Do not pass an `input_shape`/`input_dim` argument to a layer. When using Sequential models, prefer using an `Input(shape)` object as the first layer in the model instead.\n",
      "  super().__init__(activity_regularizer=activity_regularizer, **kwargs)\n"
     ]
    },
    {
     "name": "stdout",
     "output_type": "stream",
     "text": [
      "Cross-validation F1-score: 0.9451123762365837\n"
     ]
    }
   ],
   "source": [
    "from scikeras.wrappers import KerasClassifier\n",
    "from sklearn.model_selection import cross_val_score\n",
    "\n",
    "def create_model():\n",
    "    model = Sequential([\n",
    "        Dense(128, activation='relu', input_shape=(X_train_scal.shape[1],)),\n",
    "        Dropout(0.3),\n",
    "        Dense(64, activation='relu'),\n",
    "        Dropout(0.2),\n",
    "        Dense(1, activation='sigmoid')\n",
    "    ])\n",
    "    model.compile(optimizer='adam', loss='binary_crossentropy', metrics=['accuracy'])\n",
    "    return model\n",
    "\n",
    "# Wrap model\n",
    "clf = KerasClassifier(model=create_model, epochs=50, batch_size=32, verbose=0)\n",
    "\n",
    "# Cross-validation\n",
    "scores = cross_val_score(clf, X_train_scal, y_train_res, cv=5, scoring='f1_weighted')\n",
    "print(\"Cross-validation F1-score:\", scores.mean())\n"
   ]
  }
 ],
 "metadata": {
  "kernelspec": {
   "display_name": "Python 3 (ipykernel)",
   "language": "python",
   "name": "python3"
  },
  "language_info": {
   "codemirror_mode": {
    "name": "ipython",
    "version": 3
   },
   "file_extension": ".py",
   "mimetype": "text/x-python",
   "name": "python",
   "nbconvert_exporter": "python",
   "pygments_lexer": "ipython3",
   "version": "3.13.5"
  }
 },
 "nbformat": 4,
 "nbformat_minor": 5
}
